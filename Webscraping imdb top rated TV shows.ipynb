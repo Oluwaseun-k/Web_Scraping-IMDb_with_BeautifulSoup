{
 "cells": [
  {
   "cell_type": "code",
   "execution_count": 1,
   "id": "46ac4d3d",
   "metadata": {},
   "outputs": [],
   "source": [
    "# import the necessary libraries and module\n",
    "import requests\n",
    "from bs4 import BeautifulSoup\n",
    "import pandas as pd"
   ]
  },
  {
   "cell_type": "markdown",
   "id": "0cfb5dd6",
   "metadata": {},
   "source": [
    "#### http request"
   ]
  },
  {
   "cell_type": "code",
   "execution_count": 2,
   "id": "3ea8ba67",
   "metadata": {},
   "outputs": [],
   "source": [
    "url='https://www.imdb.com/chart/toptv'\n",
    "response=requests.get(url)\n"
   ]
  },
  {
   "cell_type": "code",
   "execution_count": 3,
   "id": "bc0737e3",
   "metadata": {},
   "outputs": [
    {
     "data": {
      "text/plain": [
       "200"
      ]
     },
     "execution_count": 3,
     "metadata": {},
     "output_type": "execute_result"
    }
   ],
   "source": [
    "#check status code\n",
    "#200 means successful\n",
    "response.status_code"
   ]
  },
  {
   "cell_type": "markdown",
   "id": "7a3a4df8",
   "metadata": {},
   "source": [
    "#### Soup Object"
   ]
  },
  {
   "cell_type": "code",
   "execution_count": 4,
   "id": "67fee808",
   "metadata": {},
   "outputs": [],
   "source": [
    "soup=BeautifulSoup(response.content,'html.parser')\n"
   ]
  },
  {
   "cell_type": "code",
   "execution_count": 5,
   "id": "5b48c906",
   "metadata": {},
   "outputs": [],
   "source": [
    "results=soup.find('tbody',class_=\"lister-list\").find_all('tr')"
   ]
  },
  {
   "cell_type": "markdown",
   "id": "d0a9345b",
   "metadata": {},
   "source": [
    "#### Targeting the major data needed\n"
   ]
  },
  {
   "cell_type": "code",
   "execution_count": 6,
   "id": "08fabd0f",
   "metadata": {},
   "outputs": [],
   "source": [
    "#rank\n",
    "#title\n",
    "#year\n",
    "#rating\n",
    "#link"
   ]
  },
  {
   "cell_type": "code",
   "execution_count": 7,
   "id": "81c6bf34",
   "metadata": {},
   "outputs": [],
   "source": [
    "rank=[]\n",
    "title=[]\n",
    "year=[]\n",
    "rating=[]\n",
    "link=[]\n",
    "for result in results:\n",
    "    rank.append(result.find('td',class_='titleColumn').text.split('.')[0].strip())\n",
    "    title.append(result.find('td',class_='titleColumn').a.text)\n",
    "    year.append(result.find('span', class_=\"secondaryInfo\").text.strip('()'))\n",
    "    rating.append(result.find('td',class_='ratingColumn imdbRating').text.split(' ')[0].strip())\n",
    "    link.append(result.find('a').get('href'))              \n",
    "                  "
   ]
  },
  {
   "cell_type": "code",
   "execution_count": 8,
   "id": "7bc5d038",
   "metadata": {},
   "outputs": [],
   "source": [
    "import urllib.parse"
   ]
  },
  {
   "cell_type": "code",
   "execution_count": 12,
   "id": "b6b07261",
   "metadata": {},
   "outputs": [],
   "source": [
    "#combine base_url with href to give the absolute_url for each title\n",
    "\n",
    "base_url='https://www.imdb.com'\n",
    "combine_url=[]\n",
    "for l in link:\n",
    "    combine_url.append(urllib.parse.urljoin(base_url,l))\n",
    "\n",
    "\n"
   ]
  },
  {
   "cell_type": "markdown",
   "id": "d1a75f98",
   "metadata": {},
   "source": [
    "#### Load the Data into a dataframe"
   ]
  },
  {
   "cell_type": "code",
   "execution_count": 15,
   "id": "78b3a49a",
   "metadata": {},
   "outputs": [],
   "source": [
    "#create dictionary\n",
    "imdb_TV_shows=pd.DataFrame({'Rank':rank,\n",
    "                           'TV_show':title,\n",
    "                           'Year':year,\n",
    "                           'Rating':rating,\n",
    "                           'Link':combine_url})"
   ]
  },
  {
   "cell_type": "code",
   "execution_count": 16,
   "id": "93fb92da",
   "metadata": {},
   "outputs": [
    {
     "data": {
      "text/html": [
       "<div>\n",
       "<style scoped>\n",
       "    .dataframe tbody tr th:only-of-type {\n",
       "        vertical-align: middle;\n",
       "    }\n",
       "\n",
       "    .dataframe tbody tr th {\n",
       "        vertical-align: top;\n",
       "    }\n",
       "\n",
       "    .dataframe thead th {\n",
       "        text-align: right;\n",
       "    }\n",
       "</style>\n",
       "<table border=\"1\" class=\"dataframe\">\n",
       "  <thead>\n",
       "    <tr style=\"text-align: right;\">\n",
       "      <th></th>\n",
       "      <th>Rank</th>\n",
       "      <th>TV_show</th>\n",
       "      <th>Year</th>\n",
       "      <th>Rating</th>\n",
       "      <th>Link</th>\n",
       "    </tr>\n",
       "  </thead>\n",
       "  <tbody>\n",
       "    <tr>\n",
       "      <th>0</th>\n",
       "      <td>1</td>\n",
       "      <td>Planet Earth II</td>\n",
       "      <td>2016</td>\n",
       "      <td>9.4</td>\n",
       "      <td>https://www.imdb.com/title/tt5491994/</td>\n",
       "    </tr>\n",
       "    <tr>\n",
       "      <th>1</th>\n",
       "      <td>2</td>\n",
       "      <td>Breaking Bad</td>\n",
       "      <td>2008</td>\n",
       "      <td>9.4</td>\n",
       "      <td>https://www.imdb.com/title/tt0903747/</td>\n",
       "    </tr>\n",
       "    <tr>\n",
       "      <th>2</th>\n",
       "      <td>3</td>\n",
       "      <td>Planet Earth</td>\n",
       "      <td>2006</td>\n",
       "      <td>9.4</td>\n",
       "      <td>https://www.imdb.com/title/tt0795176/</td>\n",
       "    </tr>\n",
       "    <tr>\n",
       "      <th>3</th>\n",
       "      <td>4</td>\n",
       "      <td>Band of Brothers</td>\n",
       "      <td>2001</td>\n",
       "      <td>9.4</td>\n",
       "      <td>https://www.imdb.com/title/tt0185906/</td>\n",
       "    </tr>\n",
       "    <tr>\n",
       "      <th>4</th>\n",
       "      <td>5</td>\n",
       "      <td>Chernobyl</td>\n",
       "      <td>2019</td>\n",
       "      <td>9.3</td>\n",
       "      <td>https://www.imdb.com/title/tt7366338/</td>\n",
       "    </tr>\n",
       "    <tr>\n",
       "      <th>...</th>\n",
       "      <td>...</td>\n",
       "      <td>...</td>\n",
       "      <td>...</td>\n",
       "      <td>...</td>\n",
       "      <td>...</td>\n",
       "    </tr>\n",
       "    <tr>\n",
       "      <th>245</th>\n",
       "      <td>246</td>\n",
       "      <td>The Punisher</td>\n",
       "      <td>2017</td>\n",
       "      <td>8.4</td>\n",
       "      <td>https://www.imdb.com/title/tt5675620/</td>\n",
       "    </tr>\n",
       "    <tr>\n",
       "      <th>246</th>\n",
       "      <td>247</td>\n",
       "      <td>Garth Marenghi's Darkplace</td>\n",
       "      <td>2004</td>\n",
       "      <td>8.4</td>\n",
       "      <td>https://www.imdb.com/title/tt0397150/</td>\n",
       "    </tr>\n",
       "    <tr>\n",
       "      <th>247</th>\n",
       "      <td>248</td>\n",
       "      <td>Mare of Easttown</td>\n",
       "      <td>2021</td>\n",
       "      <td>8.4</td>\n",
       "      <td>https://www.imdb.com/title/tt10155688/</td>\n",
       "    </tr>\n",
       "    <tr>\n",
       "      <th>248</th>\n",
       "      <td>249</td>\n",
       "      <td>Kardes Payi</td>\n",
       "      <td>2014</td>\n",
       "      <td>8.4</td>\n",
       "      <td>https://www.imdb.com/title/tt3671754/</td>\n",
       "    </tr>\n",
       "    <tr>\n",
       "      <th>249</th>\n",
       "      <td>250</td>\n",
       "      <td>Queer Eye</td>\n",
       "      <td>2018</td>\n",
       "      <td>8.4</td>\n",
       "      <td>https://www.imdb.com/title/tt7259746/</td>\n",
       "    </tr>\n",
       "  </tbody>\n",
       "</table>\n",
       "<p>250 rows × 5 columns</p>\n",
       "</div>"
      ],
      "text/plain": [
       "    Rank                     TV_show  Year Rating  \\\n",
       "0      1             Planet Earth II  2016    9.4   \n",
       "1      2                Breaking Bad  2008    9.4   \n",
       "2      3                Planet Earth  2006    9.4   \n",
       "3      4            Band of Brothers  2001    9.4   \n",
       "4      5                   Chernobyl  2019    9.3   \n",
       "..   ...                         ...   ...    ...   \n",
       "245  246                The Punisher  2017    8.4   \n",
       "246  247  Garth Marenghi's Darkplace  2004    8.4   \n",
       "247  248            Mare of Easttown  2021    8.4   \n",
       "248  249                 Kardes Payi  2014    8.4   \n",
       "249  250                   Queer Eye  2018    8.4   \n",
       "\n",
       "                                       Link  \n",
       "0     https://www.imdb.com/title/tt5491994/  \n",
       "1     https://www.imdb.com/title/tt0903747/  \n",
       "2     https://www.imdb.com/title/tt0795176/  \n",
       "3     https://www.imdb.com/title/tt0185906/  \n",
       "4     https://www.imdb.com/title/tt7366338/  \n",
       "..                                      ...  \n",
       "245   https://www.imdb.com/title/tt5675620/  \n",
       "246   https://www.imdb.com/title/tt0397150/  \n",
       "247  https://www.imdb.com/title/tt10155688/  \n",
       "248   https://www.imdb.com/title/tt3671754/  \n",
       "249   https://www.imdb.com/title/tt7259746/  \n",
       "\n",
       "[250 rows x 5 columns]"
      ]
     },
     "execution_count": 16,
     "metadata": {},
     "output_type": "execute_result"
    }
   ],
   "source": [
    "imdb_TV_shows"
   ]
  },
  {
   "cell_type": "markdown",
   "id": "a6db8d49",
   "metadata": {},
   "source": [
    "#### Export data into a csv file"
   ]
  },
  {
   "cell_type": "code",
   "execution_count": 19,
   "id": "50917751",
   "metadata": {},
   "outputs": [],
   "source": [
    "imdb_TV_shows.to_csv('imdb_TV_shows.csv',index=False)"
   ]
  },
  {
   "cell_type": "code",
   "execution_count": null,
   "id": "01e3299d",
   "metadata": {},
   "outputs": [],
   "source": []
  }
 ],
 "metadata": {
  "kernelspec": {
   "display_name": "Python 3",
   "language": "python",
   "name": "python3"
  },
  "language_info": {
   "codemirror_mode": {
    "name": "ipython",
    "version": 3
   },
   "file_extension": ".py",
   "mimetype": "text/x-python",
   "name": "python",
   "nbconvert_exporter": "python",
   "pygments_lexer": "ipython3",
   "version": "3.6.8"
  }
 },
 "nbformat": 4,
 "nbformat_minor": 5
}
